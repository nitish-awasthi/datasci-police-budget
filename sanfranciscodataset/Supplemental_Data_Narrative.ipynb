{
 "cells": [
  {
   "cell_type": "code",
   "execution_count": 2,
   "metadata": {},
   "outputs": [],
   "source": [
    "import pandas as pd"
   ]
  },
  {
   "cell_type": "markdown",
   "metadata": {},
   "source": [
    "# From the Year 20__ to 20__ the SFPD budget has risen by:"
   ]
  },
  {
   "cell_type": "code",
   "execution_count": 3,
   "metadata": {},
   "outputs": [],
   "source": [
    "##insert graph here"
   ]
  },
  {
   "cell_type": "markdown",
   "metadata": {},
   "source": [
    "# We can see the real world impact of financial allocation within the SFPD by comparing this financial data with suplemental police activity data"
   ]
  },
  {
   "cell_type": "markdown",
   "metadata": {},
   "source": [
    "![](supplement_data/graphs/categories.png)"
   ]
  },
  {
   "cell_type": "markdown",
   "metadata": {},
   "source": [
    "- Patrol\n",
    "- Operations and Administration\n",
    "- Special Operations\n",
    "- SFPD Recruitment and Examination Program\n",
    "- SFPD Training"
   ]
  },
  {
   "cell_type": "markdown",
   "metadata": {},
   "source": [
    "## I. Patrol"
   ]
  },
  {
   "cell_type": "code",
   "execution_count": null,
   "metadata": {},
   "outputs": [],
   "source": [
    "- Data shows that from 1999-2017 Police patrol budget has increased from ~1.5 Million t 3Million\n",
    "- The latge majority of this increase, has come from an increase in money spent on patrol officer salaries"
   ]
  },
  {
   "cell_type": "markdown",
   "metadata": {},
   "source": [
    "![](supplement_data/graphs/patrol_salaries.png)"
   ]
  },
  {
   "cell_type": "markdown",
   "metadata": {},
   "source": [
    "While money as part of salaries in SFPD has increased across the board, increased slaries in the Patrol program acount for ~ 3/4s of this increase"
   ]
  },
  {
   "cell_type": "markdown",
   "metadata": {},
   "source": [
    "Haven't had a large increase in the number of officers in this time. As such it seems like we are paying police officers more money\n",
    "https://abc7news.com/san-francisco-police-staffing-sf-officers-recruitment/5389997/ "
   ]
  },
  {
   "cell_type": "markdown",
   "metadata": {},
   "source": [
    "2015 -> Avaerage salary per officer was 174,000 \n",
    "source -> https://sfcontroller.org/sites/default/files/FileCenter/Documents/6508-Police%20staffing%20benchmarking%20report%20v11%20NM.pdf"
   ]
  },
  {
   "cell_type": "markdown",
   "metadata": {},
   "source": [
    "Median income in San Francisco is 96,000 (2019)\n",
    "https://www.sfgate.com/expensive-san-francisco/article/SF-household-income-192k-middle-class-median-13637536.php"
   ]
  },
  {
   "cell_type": "markdown",
   "metadata": {},
   "source": [
    "## V. SFPD Training"
   ]
  },
  {
   "cell_type": "code",
   "execution_count": null,
   "metadata": {},
   "outputs": [],
   "source": [
    "In contrast, one area of the SFPD budget that hasn't seen a similar increase, is that of Officer training "
   ]
  },
  {
   "cell_type": "markdown",
   "metadata": {},
   "source": [
    "## II. Operations and Administration"
   ]
  },
  {
   "cell_type": "markdown",
   "metadata": {},
   "source": [
    "## III. Special Operations"
   ]
  },
  {
   "cell_type": "code",
   "execution_count": null,
   "metadata": {},
   "outputs": [],
   "source": []
  },
  {
   "cell_type": "markdown",
   "metadata": {},
   "source": [
    "## IV. SFPD Recruitment and Examination Program"
   ]
  },
  {
   "cell_type": "code",
   "execution_count": null,
   "metadata": {},
   "outputs": [],
   "source": []
  },
  {
   "cell_type": "code",
   "execution_count": null,
   "metadata": {},
   "outputs": [],
   "source": []
  }
 ],
 "metadata": {
  "kernelspec": {
   "display_name": "Python 3",
   "language": "python",
   "name": "python3"
  },
  "language_info": {
   "codemirror_mode": {
    "name": "ipython",
    "version": 3
   },
   "file_extension": ".py",
   "mimetype": "text/x-python",
   "name": "python",
   "nbconvert_exporter": "python",
   "pygments_lexer": "ipython3",
   "version": "3.8.3"
  }
 },
 "nbformat": 4,
 "nbformat_minor": 4
}
