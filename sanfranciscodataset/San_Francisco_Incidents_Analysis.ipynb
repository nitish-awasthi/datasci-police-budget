{
 "cells": [
  {
   "cell_type": "code",
   "execution_count": 1,
   "metadata": {},
   "outputs": [],
   "source": [
    "import pandas as pd"
   ]
  },
  {
   "cell_type": "code",
   "execution_count": 2,
   "metadata": {},
   "outputs": [],
   "source": [
    "data = pd.read_csv(\"supplement_data/Police_Department_Incident_Reports__Historical_2003_to_May_2018.csv\")"
   ]
  },
  {
   "cell_type": "code",
   "execution_count": 3,
   "metadata": {
    "scrolled": true
   },
   "outputs": [
    {
     "data": {
      "text/plain": [
       "Index(['PdId', 'IncidntNum', 'Incident Code', 'Category', 'Descript',\n",
       "       'DayOfWeek', 'Date', 'Time', 'PdDistrict', 'Resolution', 'Address', 'X',\n",
       "       'Y', 'location', 'SF Find Neighborhoods 2 2',\n",
       "       'Current Police Districts 2 2', 'Current Supervisor Districts 2 2',\n",
       "       'Analysis Neighborhoods 2 2', 'DELETE - Fire Prevention Districts 2 2',\n",
       "       'DELETE - Police Districts 2 2', 'DELETE - Supervisor Districts 2 2',\n",
       "       'DELETE - Zip Codes 2 2', 'DELETE - Neighborhoods 2 2',\n",
       "       'DELETE - 2017 Fix It Zones 2 2',\n",
       "       'Civic Center Harm Reduction Project Boundary 2 2',\n",
       "       'Fix It Zones as of 2017-11-06  2 2', 'DELETE - HSOC Zones 2 2',\n",
       "       'Fix It Zones as of 2018-02-07 2 2',\n",
       "       'CBD, BID and GBD Boundaries as of 2017 2 2',\n",
       "       'Areas of Vulnerability, 2016 2 2',\n",
       "       'Central Market/Tenderloin Boundary 2 2',\n",
       "       'Central Market/Tenderloin Boundary Polygon - Updated 2 2',\n",
       "       'HSOC Zones as of 2018-06-05 2 2', 'OWED Public Spaces 2 2',\n",
       "       'Neighborhoods 2'],\n",
       "      dtype='object')"
      ]
     },
     "execution_count": 3,
     "metadata": {},
     "output_type": "execute_result"
    }
   ],
   "source": [
    "data.columns"
   ]
  },
  {
   "cell_type": "code",
   "execution_count": 4,
   "metadata": {},
   "outputs": [
    {
     "data": {
      "text/html": [
       "<div>\n",
       "<style scoped>\n",
       "    .dataframe tbody tr th:only-of-type {\n",
       "        vertical-align: middle;\n",
       "    }\n",
       "\n",
       "    .dataframe tbody tr th {\n",
       "        vertical-align: top;\n",
       "    }\n",
       "\n",
       "    .dataframe thead th {\n",
       "        text-align: right;\n",
       "    }\n",
       "</style>\n",
       "<table border=\"1\" class=\"dataframe\">\n",
       "  <thead>\n",
       "    <tr style=\"text-align: right;\">\n",
       "      <th></th>\n",
       "      <th>PdId</th>\n",
       "      <th>IncidntNum</th>\n",
       "      <th>Incident Code</th>\n",
       "      <th>Category</th>\n",
       "      <th>Descript</th>\n",
       "      <th>DayOfWeek</th>\n",
       "      <th>Date</th>\n",
       "      <th>Time</th>\n",
       "      <th>PdDistrict</th>\n",
       "      <th>Resolution</th>\n",
       "      <th>...</th>\n",
       "      <th>Fix It Zones as of 2017-11-06  2 2</th>\n",
       "      <th>DELETE - HSOC Zones 2 2</th>\n",
       "      <th>Fix It Zones as of 2018-02-07 2 2</th>\n",
       "      <th>CBD, BID and GBD Boundaries as of 2017 2 2</th>\n",
       "      <th>Areas of Vulnerability, 2016 2 2</th>\n",
       "      <th>Central Market/Tenderloin Boundary 2 2</th>\n",
       "      <th>Central Market/Tenderloin Boundary Polygon - Updated 2 2</th>\n",
       "      <th>HSOC Zones as of 2018-06-05 2 2</th>\n",
       "      <th>OWED Public Spaces 2 2</th>\n",
       "      <th>Neighborhoods 2</th>\n",
       "    </tr>\n",
       "  </thead>\n",
       "  <tbody>\n",
       "    <tr>\n",
       "      <th>0</th>\n",
       "      <td>11087941463010</td>\n",
       "      <td>110879414</td>\n",
       "      <td>63010</td>\n",
       "      <td>WARRANTS</td>\n",
       "      <td>WARRANT ARREST</td>\n",
       "      <td>Friday</td>\n",
       "      <td>07/01/2011</td>\n",
       "      <td>08:00</td>\n",
       "      <td>NORTHERN</td>\n",
       "      <td>ARREST, BOOKED</td>\n",
       "      <td>...</td>\n",
       "      <td>NaN</td>\n",
       "      <td>NaN</td>\n",
       "      <td>NaN</td>\n",
       "      <td>NaN</td>\n",
       "      <td>1.0</td>\n",
       "      <td>NaN</td>\n",
       "      <td>NaN</td>\n",
       "      <td>NaN</td>\n",
       "      <td>NaN</td>\n",
       "      <td>17.0</td>\n",
       "    </tr>\n",
       "    <tr>\n",
       "      <th>1</th>\n",
       "      <td>5117770316010</td>\n",
       "      <td>51177703</td>\n",
       "      <td>16010</td>\n",
       "      <td>DRUG/NARCOTIC</td>\n",
       "      <td>POSSESSION OF MARIJUANA</td>\n",
       "      <td>Tuesday</td>\n",
       "      <td>10/18/2005</td>\n",
       "      <td>14:30</td>\n",
       "      <td>TENDERLOIN</td>\n",
       "      <td>ARREST, BOOKED</td>\n",
       "      <td>...</td>\n",
       "      <td>3.0</td>\n",
       "      <td>1.0</td>\n",
       "      <td>3.0</td>\n",
       "      <td>6.0</td>\n",
       "      <td>2.0</td>\n",
       "      <td>1.0</td>\n",
       "      <td>1.0</td>\n",
       "      <td>1.0</td>\n",
       "      <td>39.0</td>\n",
       "      <td>21.0</td>\n",
       "    </tr>\n",
       "    <tr>\n",
       "      <th>2</th>\n",
       "      <td>5011209707055</td>\n",
       "      <td>50112097</td>\n",
       "      <td>7055</td>\n",
       "      <td>VEHICLE THEFT</td>\n",
       "      <td>RECOVERED VEHICLE - STOLEN OUTSIDE SF</td>\n",
       "      <td>Saturday</td>\n",
       "      <td>01/29/2005</td>\n",
       "      <td>13:45</td>\n",
       "      <td>BAYVIEW</td>\n",
       "      <td>NONE</td>\n",
       "      <td>...</td>\n",
       "      <td>NaN</td>\n",
       "      <td>NaN</td>\n",
       "      <td>NaN</td>\n",
       "      <td>NaN</td>\n",
       "      <td>2.0</td>\n",
       "      <td>NaN</td>\n",
       "      <td>NaN</td>\n",
       "      <td>NaN</td>\n",
       "      <td>NaN</td>\n",
       "      <td>86.0</td>\n",
       "    </tr>\n",
       "    <tr>\n",
       "      <th>3</th>\n",
       "      <td>11044468164020</td>\n",
       "      <td>110444681</td>\n",
       "      <td>64020</td>\n",
       "      <td>NON-CRIMINAL</td>\n",
       "      <td>AIDED CASE, MENTAL DISTURBED</td>\n",
       "      <td>Thursday</td>\n",
       "      <td>06/02/2011</td>\n",
       "      <td>02:52</td>\n",
       "      <td>CENTRAL</td>\n",
       "      <td>PSYCHOPATHIC CASE</td>\n",
       "      <td>...</td>\n",
       "      <td>NaN</td>\n",
       "      <td>NaN</td>\n",
       "      <td>NaN</td>\n",
       "      <td>NaN</td>\n",
       "      <td>1.0</td>\n",
       "      <td>NaN</td>\n",
       "      <td>NaN</td>\n",
       "      <td>NaN</td>\n",
       "      <td>NaN</td>\n",
       "      <td>107.0</td>\n",
       "    </tr>\n",
       "    <tr>\n",
       "      <th>4</th>\n",
       "      <td>3038311107024</td>\n",
       "      <td>30383111</td>\n",
       "      <td>7024</td>\n",
       "      <td>VEHICLE THEFT</td>\n",
       "      <td>STOLEN TRAILER</td>\n",
       "      <td>Saturday</td>\n",
       "      <td>02/01/2003</td>\n",
       "      <td>08:00</td>\n",
       "      <td>BAYVIEW</td>\n",
       "      <td>NONE</td>\n",
       "      <td>...</td>\n",
       "      <td>NaN</td>\n",
       "      <td>NaN</td>\n",
       "      <td>NaN</td>\n",
       "      <td>NaN</td>\n",
       "      <td>2.0</td>\n",
       "      <td>NaN</td>\n",
       "      <td>NaN</td>\n",
       "      <td>NaN</td>\n",
       "      <td>NaN</td>\n",
       "      <td>86.0</td>\n",
       "    </tr>\n",
       "  </tbody>\n",
       "</table>\n",
       "<p>5 rows × 35 columns</p>\n",
       "</div>"
      ],
      "text/plain": [
       "             PdId  IncidntNum  Incident Code       Category  \\\n",
       "0  11087941463010   110879414          63010       WARRANTS   \n",
       "1   5117770316010    51177703          16010  DRUG/NARCOTIC   \n",
       "2   5011209707055    50112097           7055  VEHICLE THEFT   \n",
       "3  11044468164020   110444681          64020   NON-CRIMINAL   \n",
       "4   3038311107024    30383111           7024  VEHICLE THEFT   \n",
       "\n",
       "                                Descript DayOfWeek        Date   Time  \\\n",
       "0                         WARRANT ARREST    Friday  07/01/2011  08:00   \n",
       "1                POSSESSION OF MARIJUANA   Tuesday  10/18/2005  14:30   \n",
       "2  RECOVERED VEHICLE - STOLEN OUTSIDE SF  Saturday  01/29/2005  13:45   \n",
       "3           AIDED CASE, MENTAL DISTURBED  Thursday  06/02/2011  02:52   \n",
       "4                         STOLEN TRAILER  Saturday  02/01/2003  08:00   \n",
       "\n",
       "   PdDistrict         Resolution  ... Fix It Zones as of 2017-11-06  2 2  \\\n",
       "0    NORTHERN     ARREST, BOOKED  ...                                NaN   \n",
       "1  TENDERLOIN     ARREST, BOOKED  ...                                3.0   \n",
       "2     BAYVIEW               NONE  ...                                NaN   \n",
       "3     CENTRAL  PSYCHOPATHIC CASE  ...                                NaN   \n",
       "4     BAYVIEW               NONE  ...                                NaN   \n",
       "\n",
       "   DELETE - HSOC Zones 2 2  Fix It Zones as of 2018-02-07 2 2  \\\n",
       "0                      NaN                                NaN   \n",
       "1                      1.0                                3.0   \n",
       "2                      NaN                                NaN   \n",
       "3                      NaN                                NaN   \n",
       "4                      NaN                                NaN   \n",
       "\n",
       "  CBD, BID and GBD Boundaries as of 2017 2 2  \\\n",
       "0                                        NaN   \n",
       "1                                        6.0   \n",
       "2                                        NaN   \n",
       "3                                        NaN   \n",
       "4                                        NaN   \n",
       "\n",
       "   Areas of Vulnerability, 2016 2 2  Central Market/Tenderloin Boundary 2 2  \\\n",
       "0                               1.0                                     NaN   \n",
       "1                               2.0                                     1.0   \n",
       "2                               2.0                                     NaN   \n",
       "3                               1.0                                     NaN   \n",
       "4                               2.0                                     NaN   \n",
       "\n",
       "   Central Market/Tenderloin Boundary Polygon - Updated 2 2  \\\n",
       "0                                                NaN          \n",
       "1                                                1.0          \n",
       "2                                                NaN          \n",
       "3                                                NaN          \n",
       "4                                                NaN          \n",
       "\n",
       "   HSOC Zones as of 2018-06-05 2 2  OWED Public Spaces 2 2  Neighborhoods 2  \n",
       "0                              NaN                     NaN             17.0  \n",
       "1                              1.0                    39.0             21.0  \n",
       "2                              NaN                     NaN             86.0  \n",
       "3                              NaN                     NaN            107.0  \n",
       "4                              NaN                     NaN             86.0  \n",
       "\n",
       "[5 rows x 35 columns]"
      ]
     },
     "execution_count": 4,
     "metadata": {},
     "output_type": "execute_result"
    }
   ],
   "source": [
    "data.head()"
   ]
  },
  {
   "cell_type": "code",
   "execution_count": 5,
   "metadata": {},
   "outputs": [
    {
     "data": {
      "text/plain": [
       "2160953"
      ]
     },
     "execution_count": 5,
     "metadata": {},
     "output_type": "execute_result"
    }
   ],
   "source": [
    "len(data)"
   ]
  },
  {
   "cell_type": "code",
   "execution_count": 6,
   "metadata": {},
   "outputs": [],
   "source": [
    "#Filter out data where year is 2018, as it's not complete data\n",
    "data['Date']= pd.to_datetime(data['Date'])\n",
    "data= data[data.Date.dt.year!=2018]"
   ]
  },
  {
   "cell_type": "code",
   "execution_count": 7,
   "metadata": {},
   "outputs": [
    {
     "data": {
      "text/plain": [
       "2115112"
      ]
     },
     "execution_count": 7,
     "metadata": {},
     "output_type": "execute_result"
    }
   ],
   "source": [
    "len(data)"
   ]
  },
  {
   "cell_type": "code",
   "execution_count": 8,
   "metadata": {},
   "outputs": [
    {
     "data": {
      "text/plain": [
       "1682245"
      ]
     },
     "execution_count": 8,
     "metadata": {},
     "output_type": "execute_result"
    }
   ],
   "source": [
    "data[\"IncidntNum\"].nunique()"
   ]
  },
  {
   "cell_type": "code",
   "execution_count": 9,
   "metadata": {},
   "outputs": [
    {
     "data": {
      "text/plain": [
       "2115112"
      ]
     },
     "execution_count": 9,
     "metadata": {},
     "output_type": "execute_result"
    }
   ],
   "source": [
    "data[\"PdId\"].nunique()"
   ]
  },
  {
   "cell_type": "code",
   "execution_count": 10,
   "metadata": {},
   "outputs": [
    {
     "data": {
      "text/plain": [
       "140135145    19\n",
       "171000725    18\n",
       "160629623    17\n",
       "160174703    15\n",
       "170559220    15\n",
       "             ..\n",
       "41096044      1\n",
       "120789869     1\n",
       "31167304      1\n",
       "41151347      1\n",
       "160819761     1\n",
       "Name: IncidntNum, Length: 1682245, dtype: int64"
      ]
     },
     "execution_count": 10,
     "metadata": {},
     "output_type": "execute_result"
    }
   ],
   "source": [
    "data[\"IncidntNum\"].value_counts()"
   ]
  },
  {
   "cell_type": "code",
   "execution_count": 11,
   "metadata": {},
   "outputs": [],
   "source": [
    "same = data[data[\"IncidntNum\"]==140135145]"
   ]
  },
  {
   "cell_type": "code",
   "execution_count": 12,
   "metadata": {},
   "outputs": [
    {
     "data": {
      "text/html": [
       "<div>\n",
       "<style scoped>\n",
       "    .dataframe tbody tr th:only-of-type {\n",
       "        vertical-align: middle;\n",
       "    }\n",
       "\n",
       "    .dataframe tbody tr th {\n",
       "        vertical-align: top;\n",
       "    }\n",
       "\n",
       "    .dataframe thead th {\n",
       "        text-align: right;\n",
       "    }\n",
       "</style>\n",
       "<table border=\"1\" class=\"dataframe\">\n",
       "  <thead>\n",
       "    <tr style=\"text-align: right;\">\n",
       "      <th></th>\n",
       "      <th>PdId</th>\n",
       "      <th>IncidntNum</th>\n",
       "      <th>Incident Code</th>\n",
       "      <th>Category</th>\n",
       "      <th>Descript</th>\n",
       "      <th>DayOfWeek</th>\n",
       "      <th>Date</th>\n",
       "      <th>Time</th>\n",
       "      <th>PdDistrict</th>\n",
       "      <th>Resolution</th>\n",
       "      <th>...</th>\n",
       "      <th>Fix It Zones as of 2017-11-06  2 2</th>\n",
       "      <th>DELETE - HSOC Zones 2 2</th>\n",
       "      <th>Fix It Zones as of 2018-02-07 2 2</th>\n",
       "      <th>CBD, BID and GBD Boundaries as of 2017 2 2</th>\n",
       "      <th>Areas of Vulnerability, 2016 2 2</th>\n",
       "      <th>Central Market/Tenderloin Boundary 2 2</th>\n",
       "      <th>Central Market/Tenderloin Boundary Polygon - Updated 2 2</th>\n",
       "      <th>HSOC Zones as of 2018-06-05 2 2</th>\n",
       "      <th>OWED Public Spaces 2 2</th>\n",
       "      <th>Neighborhoods 2</th>\n",
       "    </tr>\n",
       "  </thead>\n",
       "  <tbody>\n",
       "    <tr>\n",
       "      <th>538937</th>\n",
       "      <td>14013514512100</td>\n",
       "      <td>140135145</td>\n",
       "      <td>12100</td>\n",
       "      <td>WEAPON LAWS</td>\n",
       "      <td>POSS OF LOADED FIREARM</td>\n",
       "      <td>Saturday</td>\n",
       "      <td>2014-02-15</td>\n",
       "      <td>04:48</td>\n",
       "      <td>INGLESIDE</td>\n",
       "      <td>ARREST, BOOKED</td>\n",
       "      <td>...</td>\n",
       "      <td>NaN</td>\n",
       "      <td>NaN</td>\n",
       "      <td>NaN</td>\n",
       "      <td>NaN</td>\n",
       "      <td>1.0</td>\n",
       "      <td>NaN</td>\n",
       "      <td>NaN</td>\n",
       "      <td>NaN</td>\n",
       "      <td>NaN</td>\n",
       "      <td>61.0</td>\n",
       "    </tr>\n",
       "    <tr>\n",
       "      <th>541313</th>\n",
       "      <td>14013514516660</td>\n",
       "      <td>140135145</td>\n",
       "      <td>16660</td>\n",
       "      <td>DRUG/NARCOTIC</td>\n",
       "      <td>POSSESSION OF CONTROLLED SUBSTANCE</td>\n",
       "      <td>Saturday</td>\n",
       "      <td>2014-02-15</td>\n",
       "      <td>04:48</td>\n",
       "      <td>INGLESIDE</td>\n",
       "      <td>ARREST, BOOKED</td>\n",
       "      <td>...</td>\n",
       "      <td>NaN</td>\n",
       "      <td>NaN</td>\n",
       "      <td>NaN</td>\n",
       "      <td>NaN</td>\n",
       "      <td>1.0</td>\n",
       "      <td>NaN</td>\n",
       "      <td>NaN</td>\n",
       "      <td>NaN</td>\n",
       "      <td>NaN</td>\n",
       "      <td>61.0</td>\n",
       "    </tr>\n",
       "    <tr>\n",
       "      <th>546178</th>\n",
       "      <td>14013514516710</td>\n",
       "      <td>140135145</td>\n",
       "      <td>16710</td>\n",
       "      <td>DRUG/NARCOTIC</td>\n",
       "      <td>POSSESSION OF NARCOTICS PARAPHERNALIA</td>\n",
       "      <td>Saturday</td>\n",
       "      <td>2014-02-15</td>\n",
       "      <td>04:48</td>\n",
       "      <td>INGLESIDE</td>\n",
       "      <td>ARREST, BOOKED</td>\n",
       "      <td>...</td>\n",
       "      <td>NaN</td>\n",
       "      <td>NaN</td>\n",
       "      <td>NaN</td>\n",
       "      <td>NaN</td>\n",
       "      <td>1.0</td>\n",
       "      <td>NaN</td>\n",
       "      <td>NaN</td>\n",
       "      <td>NaN</td>\n",
       "      <td>NaN</td>\n",
       "      <td>61.0</td>\n",
       "    </tr>\n",
       "    <tr>\n",
       "      <th>547283</th>\n",
       "      <td>14013514512010</td>\n",
       "      <td>140135145</td>\n",
       "      <td>12010</td>\n",
       "      <td>WEAPON LAWS</td>\n",
       "      <td>CARRYING OF CONCEALED WEAPON BY CONVICTED FELON</td>\n",
       "      <td>Saturday</td>\n",
       "      <td>2014-02-15</td>\n",
       "      <td>04:48</td>\n",
       "      <td>INGLESIDE</td>\n",
       "      <td>ARREST, BOOKED</td>\n",
       "      <td>...</td>\n",
       "      <td>NaN</td>\n",
       "      <td>NaN</td>\n",
       "      <td>NaN</td>\n",
       "      <td>NaN</td>\n",
       "      <td>1.0</td>\n",
       "      <td>NaN</td>\n",
       "      <td>NaN</td>\n",
       "      <td>NaN</td>\n",
       "      <td>NaN</td>\n",
       "      <td>61.0</td>\n",
       "    </tr>\n",
       "    <tr>\n",
       "      <th>547933</th>\n",
       "      <td>14013514512090</td>\n",
       "      <td>140135145</td>\n",
       "      <td>12090</td>\n",
       "      <td>WEAPON LAWS</td>\n",
       "      <td>POSS OF FIREARM SILENCER</td>\n",
       "      <td>Saturday</td>\n",
       "      <td>2014-02-15</td>\n",
       "      <td>04:48</td>\n",
       "      <td>INGLESIDE</td>\n",
       "      <td>ARREST, BOOKED</td>\n",
       "      <td>...</td>\n",
       "      <td>NaN</td>\n",
       "      <td>NaN</td>\n",
       "      <td>NaN</td>\n",
       "      <td>NaN</td>\n",
       "      <td>1.0</td>\n",
       "      <td>NaN</td>\n",
       "      <td>NaN</td>\n",
       "      <td>NaN</td>\n",
       "      <td>NaN</td>\n",
       "      <td>61.0</td>\n",
       "    </tr>\n",
       "  </tbody>\n",
       "</table>\n",
       "<p>5 rows × 35 columns</p>\n",
       "</div>"
      ],
      "text/plain": [
       "                  PdId  IncidntNum  Incident Code       Category  \\\n",
       "538937  14013514512100   140135145          12100    WEAPON LAWS   \n",
       "541313  14013514516660   140135145          16660  DRUG/NARCOTIC   \n",
       "546178  14013514516710   140135145          16710  DRUG/NARCOTIC   \n",
       "547283  14013514512010   140135145          12010    WEAPON LAWS   \n",
       "547933  14013514512090   140135145          12090    WEAPON LAWS   \n",
       "\n",
       "                                               Descript DayOfWeek       Date  \\\n",
       "538937                           POSS OF LOADED FIREARM  Saturday 2014-02-15   \n",
       "541313               POSSESSION OF CONTROLLED SUBSTANCE  Saturday 2014-02-15   \n",
       "546178            POSSESSION OF NARCOTICS PARAPHERNALIA  Saturday 2014-02-15   \n",
       "547283  CARRYING OF CONCEALED WEAPON BY CONVICTED FELON  Saturday 2014-02-15   \n",
       "547933                         POSS OF FIREARM SILENCER  Saturday 2014-02-15   \n",
       "\n",
       "         Time PdDistrict      Resolution  ...  \\\n",
       "538937  04:48  INGLESIDE  ARREST, BOOKED  ...   \n",
       "541313  04:48  INGLESIDE  ARREST, BOOKED  ...   \n",
       "546178  04:48  INGLESIDE  ARREST, BOOKED  ...   \n",
       "547283  04:48  INGLESIDE  ARREST, BOOKED  ...   \n",
       "547933  04:48  INGLESIDE  ARREST, BOOKED  ...   \n",
       "\n",
       "       Fix It Zones as of 2017-11-06  2 2  DELETE - HSOC Zones 2 2  \\\n",
       "538937                                NaN                      NaN   \n",
       "541313                                NaN                      NaN   \n",
       "546178                                NaN                      NaN   \n",
       "547283                                NaN                      NaN   \n",
       "547933                                NaN                      NaN   \n",
       "\n",
       "        Fix It Zones as of 2018-02-07 2 2  \\\n",
       "538937                                NaN   \n",
       "541313                                NaN   \n",
       "546178                                NaN   \n",
       "547283                                NaN   \n",
       "547933                                NaN   \n",
       "\n",
       "       CBD, BID and GBD Boundaries as of 2017 2 2  \\\n",
       "538937                                        NaN   \n",
       "541313                                        NaN   \n",
       "546178                                        NaN   \n",
       "547283                                        NaN   \n",
       "547933                                        NaN   \n",
       "\n",
       "        Areas of Vulnerability, 2016 2 2  \\\n",
       "538937                               1.0   \n",
       "541313                               1.0   \n",
       "546178                               1.0   \n",
       "547283                               1.0   \n",
       "547933                               1.0   \n",
       "\n",
       "        Central Market/Tenderloin Boundary 2 2  \\\n",
       "538937                                     NaN   \n",
       "541313                                     NaN   \n",
       "546178                                     NaN   \n",
       "547283                                     NaN   \n",
       "547933                                     NaN   \n",
       "\n",
       "        Central Market/Tenderloin Boundary Polygon - Updated 2 2  \\\n",
       "538937                                                NaN          \n",
       "541313                                                NaN          \n",
       "546178                                                NaN          \n",
       "547283                                                NaN          \n",
       "547933                                                NaN          \n",
       "\n",
       "        HSOC Zones as of 2018-06-05 2 2  OWED Public Spaces 2 2  \\\n",
       "538937                              NaN                     NaN   \n",
       "541313                              NaN                     NaN   \n",
       "546178                              NaN                     NaN   \n",
       "547283                              NaN                     NaN   \n",
       "547933                              NaN                     NaN   \n",
       "\n",
       "        Neighborhoods 2  \n",
       "538937             61.0  \n",
       "541313             61.0  \n",
       "546178             61.0  \n",
       "547283             61.0  \n",
       "547933             61.0  \n",
       "\n",
       "[5 rows x 35 columns]"
      ]
     },
     "execution_count": 12,
     "metadata": {},
     "output_type": "execute_result"
    }
   ],
   "source": [
    "same[0:5]"
   ]
  },
  {
   "cell_type": "code",
   "execution_count": 13,
   "metadata": {},
   "outputs": [
    {
     "data": {
      "text/plain": [
       "'\\nIt seems like IncidntNum is the unique idneitifer for each incident, and PdId is the id for each row.\\nSome InicidntNums are repeated in multiple rows. Those rows seem to have different  incident codes. Not sure what\\nthe incident codes mean just yet.\\n'"
      ]
     },
     "execution_count": 13,
     "metadata": {},
     "output_type": "execute_result"
    }
   ],
   "source": [
    "\"\"\"\n",
    "It seems like IncidntNum is the unique idneitifer for each incident, and PdId is the id for each row.\n",
    "Some InicidntNums are repeated in multiple rows. Those rows seem to have different  incident codes. Not sure what\n",
    "the incident codes mean just yet.\n",
    "\"\"\""
   ]
  },
  {
   "cell_type": "code",
   "execution_count": 14,
   "metadata": {},
   "outputs": [],
   "source": [
    "#Incident Code Dictionary: https://data.sfgov.org/Public-Safety/Reference-Police-Department-Incident-Code-Crosswal/ci9u-8awy"
   ]
  },
  {
   "cell_type": "code",
   "execution_count": 15,
   "metadata": {},
   "outputs": [],
   "source": [
    "data['Date']= pd.to_datetime(data['Date'])"
   ]
  },
  {
   "cell_type": "code",
   "execution_count": 16,
   "metadata": {},
   "outputs": [],
   "source": [
    "unique_incidents = data.drop_duplicates(subset=\"IncidntNum\")"
   ]
  },
  {
   "cell_type": "code",
   "execution_count": 17,
   "metadata": {},
   "outputs": [
    {
     "data": {
      "text/plain": [
       "1682245"
      ]
     },
     "execution_count": 17,
     "metadata": {},
     "output_type": "execute_result"
    }
   ],
   "source": [
    "len(unique_incidents)"
   ]
  },
  {
   "cell_type": "code",
   "execution_count": 18,
   "metadata": {},
   "outputs": [],
   "source": [
    "yearly_analysis = unique_incidents.groupby(data.Date.dt.year)"
   ]
  },
  {
   "cell_type": "code",
   "execution_count": 19,
   "metadata": {},
   "outputs": [
    {
     "data": {
      "text/plain": [
       "Date\n",
       "2003    115826\n",
       "2004    114413\n",
       "2005    113936\n",
       "2006    113914\n",
       "2007    110300\n",
       "2008    112693\n",
       "2009    106648\n",
       "2010    100094\n",
       "2011     99584\n",
       "2012    107382\n",
       "2013    114061\n",
       "2014    115426\n",
       "2015    121356\n",
       "2016    116200\n",
       "2017    120412\n",
       "Name: IncidntNum, dtype: int64"
      ]
     },
     "execution_count": 19,
     "metadata": {},
     "output_type": "execute_result"
    }
   ],
   "source": [
    "yearly_analysis[\"IncidntNum\"].count()"
   ]
  },
  {
   "cell_type": "code",
   "execution_count": 20,
   "metadata": {},
   "outputs": [],
   "source": [
    "import matplotlib.pyplot as plt"
   ]
  },
  {
   "cell_type": "code",
   "execution_count": 22,
   "metadata": {},
   "outputs": [
    {
     "data": {
      "text/plain": [
       "<matplotlib.axes._subplots.AxesSubplot at 0x2be22848550>"
      ]
     },
     "execution_count": 22,
     "metadata": {},
     "output_type": "execute_result"
    },
    {
     "data": {
      "image/png": "[encoded data removed]",
      "text/plain": [
       "<Figure size 720x720 with 1 Axes>"
      ]
     },
     "metadata": {
      "needs_background": "light"
     },
     "output_type": "display_data"
    }
   ],
   "source": [
    "fig, ax = plt.subplots(figsize=(10,10))\n",
    "\n",
    "yearly_analysis[\"IncidntNum\"].count().plot(kind='line', ax=ax)"
   ]
  },
  {
   "cell_type": "code",
   "execution_count": null,
   "metadata": {},
   "outputs": [],
   "source": []
  }
 ],
 "metadata": {
  "kernelspec": {
   "display_name": "Python 3",
   "language": "python",
   "name": "python3"
  },
  "language_info": {
   "codemirror_mode": {
    "name": "ipython",
    "version": 3
   },
   "file_extension": ".py",
   "mimetype": "text/x-python",
   "name": "python",
   "nbconvert_exporter": "python",
   "pygments_lexer": "ipython3",
   "version": "3.8.3"
  }
 },
 "nbformat": 4,
 "nbformat_minor": 4
}
